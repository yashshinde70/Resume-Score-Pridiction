{
 "cells": [
  {
   "cell_type": "code",
   "execution_count": 1,
   "id": "a48a2d74",
   "metadata": {},
   "outputs": [],
   "source": [
    "import numpy as np\n",
    "import pandas as pd\n",
    "import nltk\n",
    "# nltk.download('stopwords')\n",
    "import re\n",
    "import pdfplumber\n",
    "import tensorflow as tf\n",
    "from tqdm.notebook import tqdm\n",
    "from nltk.corpus import stopwords\n",
    "from nltk.stem.porter import PorterStemmer\n",
    "from PIL import Image\n",
    "from pytesseract import pytesseract\n",
    "from sklearn.linear_model import LinearRegression \n",
    "from sklearn.linear_model import Lasso \n",
    "from sklearn.linear_model import Ridge\n",
    "from sklearn.svm import SVR\n",
    "from sklearn.ensemble import RandomForestRegressor\n",
    "from sklearn.tree import DecisionTreeRegressor\n",
    "from xgboost import XGBRegressor\n",
    "from sklearn.metrics import mean_squared_error\n",
    "from sklearn.feature_extraction.text import CountVectorizer\n",
    "import joblib\n",
    "import warnings\n",
    "warnings.filterwarnings('ignore')"
   ]
  },
  {
   "cell_type": "code",
   "execution_count": 2,
   "id": "db21e6e5",
   "metadata": {},
   "outputs": [
    {
     "data": {
      "text/html": [
       "<div>\n",
       "<style scoped>\n",
       "    .dataframe tbody tr th:only-of-type {\n",
       "        vertical-align: middle;\n",
       "    }\n",
       "\n",
       "    .dataframe tbody tr th {\n",
       "        vertical-align: top;\n",
       "    }\n",
       "\n",
       "    .dataframe thead th {\n",
       "        text-align: right;\n",
       "    }\n",
       "</style>\n",
       "<table border=\"1\" class=\"dataframe\">\n",
       "  <thead>\n",
       "    <tr style=\"text-align: right;\">\n",
       "      <th></th>\n",
       "      <th>Resumes</th>\n",
       "      <th>Score</th>\n",
       "    </tr>\n",
       "  </thead>\n",
       "  <tbody>\n",
       "    <tr>\n",
       "      <th>0</th>\n",
       "      <td>CYBER_SECURITY_RESUME_0</td>\n",
       "      <td>65</td>\n",
       "    </tr>\n",
       "    <tr>\n",
       "      <th>1</th>\n",
       "      <td>CYBER_SECURITY_RESUME_1</td>\n",
       "      <td>75</td>\n",
       "    </tr>\n",
       "    <tr>\n",
       "      <th>2</th>\n",
       "      <td>CYBER_SECURITY_RESUME_10</td>\n",
       "      <td>75</td>\n",
       "    </tr>\n",
       "    <tr>\n",
       "      <th>3</th>\n",
       "      <td>CYBER_SECURITY_RESUME_11</td>\n",
       "      <td>67</td>\n",
       "    </tr>\n",
       "    <tr>\n",
       "      <th>4</th>\n",
       "      <td>CYBER_SECURITY_RESUME_12</td>\n",
       "      <td>58</td>\n",
       "    </tr>\n",
       "  </tbody>\n",
       "</table>\n",
       "</div>"
      ],
      "text/plain": [
       "                    Resumes  Score\n",
       "0   CYBER_SECURITY_RESUME_0     65\n",
       "1   CYBER_SECURITY_RESUME_1     75\n",
       "2  CYBER_SECURITY_RESUME_10     75\n",
       "3  CYBER_SECURITY_RESUME_11     67\n",
       "4  CYBER_SECURITY_RESUME_12     58"
      ]
     },
     "execution_count": 2,
     "metadata": {},
     "output_type": "execute_result"
    }
   ],
   "source": [
    "df = pd.read_csv('ResumeScore.csv')\n",
    "df.head()"
   ]
  },
  {
   "cell_type": "markdown",
   "id": "358d2294",
   "metadata": {},
   "source": [
    "### PDF TO Images"
   ]
  },
  {
   "cell_type": "code",
   "execution_count": 3,
   "id": "c37709b4",
   "metadata": {},
   "outputs": [
    {
     "data": {
      "application/vnd.jupyter.widget-view+json": {
       "model_id": "48b4109a801044388fe44c8b62c8b914",
       "version_major": 2,
       "version_minor": 0
      },
      "text/plain": [
       "HBox(children=(HTML(value=''), FloatProgress(value=0.0, max=118.0), HTML(value='')))"
      ]
     },
     "metadata": {},
     "output_type": "display_data"
    },
    {
     "name": "stdout",
     "output_type": "stream",
     "text": [
      "\n"
     ]
    }
   ],
   "source": [
    "from pdf2image import convert_from_path\n",
    "for j in tqdm(range(0,len(df))):\n",
    "    images = convert_from_path(str(\"dataset\" + \"/\" + df['Resumes'][j]+\".pdf\"))\n",
    "    for i in range(len(images)):\n",
    "        images[i].save(f\"ResumeImages/{df.Resumes[j]}\"+'.jpg', \"JPEG\")"
   ]
  },
  {
   "cell_type": "markdown",
   "id": "ed47c546",
   "metadata": {},
   "source": [
    "### Extract Text from Images"
   ]
  },
  {
   "cell_type": "code",
   "execution_count": 4,
   "id": "71ad0339",
   "metadata": {},
   "outputs": [
    {
     "data": {
      "application/vnd.jupyter.widget-view+json": {
       "model_id": "625c7455ac4944308d42a88723d71891",
       "version_major": 2,
       "version_minor": 0
      },
      "text/plain": [
       "HBox(children=(HTML(value=''), FloatProgress(value=0.0, max=118.0), HTML(value='')))"
      ]
     },
     "metadata": {},
     "output_type": "display_data"
    },
    {
     "name": "stdout",
     "output_type": "stream",
     "text": [
      "\n"
     ]
    }
   ],
   "source": [
    "pdf_text = list()\n",
    "path_to_tesseract = r\"C:\\Program Files\\Tesseract-OCR\\tesseract.exe\"\n",
    "\n",
    "for i in tqdm(range(0,len(df))):\n",
    "    image_path = str(\"ResumeImages\" + \"/\" + df['Resumes'][i]+\".jpg\")\n",
    "    img = Image.open(image_path)\n",
    "    pytesseract.tesseract_cmd = path_to_tesseract\n",
    "    text = pytesseract.image_to_string(img)\n",
    "    pdf_text.append(text[:-1])"
   ]
  },
  {
   "cell_type": "code",
   "execution_count": 5,
   "id": "44a2c6b8",
   "metadata": {},
   "outputs": [
    {
     "data": {
      "text/html": [
       "<div>\n",
       "<style scoped>\n",
       "    .dataframe tbody tr th:only-of-type {\n",
       "        vertical-align: middle;\n",
       "    }\n",
       "\n",
       "    .dataframe tbody tr th {\n",
       "        vertical-align: top;\n",
       "    }\n",
       "\n",
       "    .dataframe thead th {\n",
       "        text-align: right;\n",
       "    }\n",
       "</style>\n",
       "<table border=\"1\" class=\"dataframe\">\n",
       "  <thead>\n",
       "    <tr style=\"text-align: right;\">\n",
       "      <th></th>\n",
       "      <th>Resumes</th>\n",
       "      <th>Score</th>\n",
       "      <th>text</th>\n",
       "    </tr>\n",
       "  </thead>\n",
       "  <tbody>\n",
       "    <tr>\n",
       "      <th>0</th>\n",
       "      <td>CYBER_SECURITY_RESUME_0</td>\n",
       "      <td>65</td>\n",
       "      <td>KHADIJAH KOSS\\n\\n51513 FRITSCH WALKS, CHICAGO,...</td>\n",
       "    </tr>\n",
       "    <tr>\n",
       "      <th>1</th>\n",
       "      <td>CYBER_SECURITY_RESUME_1</td>\n",
       "      <td>75</td>\n",
       "      <td>= Enforce IT processes to ensure consistent, w...</td>\n",
       "    </tr>\n",
       "    <tr>\n",
       "      <th>2</th>\n",
       "      <td>CYBER_SECURITY_RESUME_10</td>\n",
       "      <td>75</td>\n",
       "      <td>FIRST LAST\\n\\nNew York, NY | P: +44 123456789 ...</td>\n",
       "    </tr>\n",
       "    <tr>\n",
       "      <th>3</th>\n",
       "      <td>CYBER_SECURITY_RESUME_11</td>\n",
       "      <td>67</td>\n",
       "      <td>DON EVANS\\nCyber Security Analyst\\n\\n\\ 70954-6...</td>\n",
       "    </tr>\n",
       "    <tr>\n",
       "      <th>4</th>\n",
       "      <td>CYBER_SECURITY_RESUME_12</td>\n",
       "      <td>58</td>\n",
       "      <td>Robert Smith nese (123) 456 78 99\\n\\nCyber Sec...</td>\n",
       "    </tr>\n",
       "  </tbody>\n",
       "</table>\n",
       "</div>"
      ],
      "text/plain": [
       "                    Resumes  Score  \\\n",
       "0   CYBER_SECURITY_RESUME_0     65   \n",
       "1   CYBER_SECURITY_RESUME_1     75   \n",
       "2  CYBER_SECURITY_RESUME_10     75   \n",
       "3  CYBER_SECURITY_RESUME_11     67   \n",
       "4  CYBER_SECURITY_RESUME_12     58   \n",
       "\n",
       "                                                text  \n",
       "0  KHADIJAH KOSS\\n\\n51513 FRITSCH WALKS, CHICAGO,...  \n",
       "1  = Enforce IT processes to ensure consistent, w...  \n",
       "2  FIRST LAST\\n\\nNew York, NY | P: +44 123456789 ...  \n",
       "3  DON EVANS\\nCyber Security Analyst\\n\\n\\ 70954-6...  \n",
       "4  Robert Smith nese (123) 456 78 99\\n\\nCyber Sec...  "
      ]
     },
     "execution_count": 5,
     "metadata": {},
     "output_type": "execute_result"
    }
   ],
   "source": [
    "#create a dataframe\n",
    "df_new = pd.DataFrame(pdf_text,columns=['text'])\n",
    "df = pd.concat([df,df_new],axis=1)\n",
    "df.head()"
   ]
  },
  {
   "cell_type": "markdown",
   "id": "71889fd3",
   "metadata": {},
   "source": [
    "### Data Preprocessing"
   ]
  },
  {
   "cell_type": "code",
   "execution_count": 6,
   "id": "f0337744",
   "metadata": {},
   "outputs": [],
   "source": [
    "ps = PorterStemmer()\n",
    "corpus = []\n",
    "for i in range(0,len(df['text'])):\n",
    "    text = re.sub('[^a-zA-Z]',' ',df['text'][i])\n",
    "    text = text.lower()\n",
    "    text = text.split()\n",
    "    text = [ps.stem(word) for word in text if not word in stopwords.words('english')]\n",
    "    text = [word for word in text if word.isalpha()]\n",
    "    \n",
    "    text = \" \".join(text)\n",
    "    corpus.append(text)"
   ]
  },
  {
   "cell_type": "code",
   "execution_count": 7,
   "id": "ed51715b",
   "metadata": {},
   "outputs": [
    {
     "data": {
      "text/html": [
       "<div>\n",
       "<style scoped>\n",
       "    .dataframe tbody tr th:only-of-type {\n",
       "        vertical-align: middle;\n",
       "    }\n",
       "\n",
       "    .dataframe tbody tr th {\n",
       "        vertical-align: top;\n",
       "    }\n",
       "\n",
       "    .dataframe thead th {\n",
       "        text-align: right;\n",
       "    }\n",
       "</style>\n",
       "<table border=\"1\" class=\"dataframe\">\n",
       "  <thead>\n",
       "    <tr style=\"text-align: right;\">\n",
       "      <th></th>\n",
       "      <th>preprocessed_text</th>\n",
       "    </tr>\n",
       "  </thead>\n",
       "  <tbody>\n",
       "    <tr>\n",
       "      <th>0</th>\n",
       "      <td>khadijah koss fritsch walk chicago il phone l ...</td>\n",
       "    </tr>\n",
       "    <tr>\n",
       "      <th>1</th>\n",
       "      <td>enforc process ensur consist well integr appli...</td>\n",
       "    </tr>\n",
       "    <tr>\n",
       "      <th>2</th>\n",
       "      <td>first last new york ny p first last resumeword...</td>\n",
       "    </tr>\n",
       "    <tr>\n",
       "      <th>3</th>\n",
       "      <td>evan cyber secur analyst wreewexamplacom donev...</td>\n",
       "    </tr>\n",
       "    <tr>\n",
       "      <th>4</th>\n",
       "      <td>robert smith nese cyber secur engin hidniinyim...</td>\n",
       "    </tr>\n",
       "    <tr>\n",
       "      <th>...</th>\n",
       "      <td>...</td>\n",
       "    </tr>\n",
       "    <tr>\n",
       "      <th>113</th>\n",
       "      <td>place de miremont pari franc profil creativ we...</td>\n",
       "    </tr>\n",
       "    <tr>\n",
       "      <th>114</th>\n",
       "      <td>elza experi nader walker low windler houston t...</td>\n",
       "    </tr>\n",
       "    <tr>\n",
       "      <th>115</th>\n",
       "      <td>sylvest rath alysa ridg dalla tx phone experi ...</td>\n",
       "    </tr>\n",
       "    <tr>\n",
       "      <th>116</th>\n",
       "      <td>karli berkley front end web develop contact wo...</td>\n",
       "    </tr>\n",
       "    <tr>\n",
       "      <th>117</th>\n",
       "      <td>xander clemmon xclemm email com tampa fl xande...</td>\n",
       "    </tr>\n",
       "  </tbody>\n",
       "</table>\n",
       "<p>118 rows × 1 columns</p>\n",
       "</div>"
      ],
      "text/plain": [
       "                                     preprocessed_text\n",
       "0    khadijah koss fritsch walk chicago il phone l ...\n",
       "1    enforc process ensur consist well integr appli...\n",
       "2    first last new york ny p first last resumeword...\n",
       "3    evan cyber secur analyst wreewexamplacom donev...\n",
       "4    robert smith nese cyber secur engin hidniinyim...\n",
       "..                                                 ...\n",
       "113  place de miremont pari franc profil creativ we...\n",
       "114  elza experi nader walker low windler houston t...\n",
       "115  sylvest rath alysa ridg dalla tx phone experi ...\n",
       "116  karli berkley front end web develop contact wo...\n",
       "117  xander clemmon xclemm email com tampa fl xande...\n",
       "\n",
       "[118 rows x 1 columns]"
      ]
     },
     "execution_count": 7,
     "metadata": {},
     "output_type": "execute_result"
    }
   ],
   "source": [
    "#create dataframe for the new corpus\n",
    "preprocess_df = pd.DataFrame(corpus,columns=['preprocessed_text'])\n",
    "preprocess_df"
   ]
  },
  {
   "cell_type": "code",
   "execution_count": 8,
   "id": "709051fb",
   "metadata": {},
   "outputs": [
    {
     "data": {
      "text/html": [
       "<div>\n",
       "<style scoped>\n",
       "    .dataframe tbody tr th:only-of-type {\n",
       "        vertical-align: middle;\n",
       "    }\n",
       "\n",
       "    .dataframe tbody tr th {\n",
       "        vertical-align: top;\n",
       "    }\n",
       "\n",
       "    .dataframe thead th {\n",
       "        text-align: right;\n",
       "    }\n",
       "</style>\n",
       "<table border=\"1\" class=\"dataframe\">\n",
       "  <thead>\n",
       "    <tr style=\"text-align: right;\">\n",
       "      <th></th>\n",
       "      <th>Resumes</th>\n",
       "      <th>Score</th>\n",
       "      <th>text</th>\n",
       "      <th>preprocessed_text</th>\n",
       "    </tr>\n",
       "  </thead>\n",
       "  <tbody>\n",
       "    <tr>\n",
       "      <th>0</th>\n",
       "      <td>CYBER_SECURITY_RESUME_0</td>\n",
       "      <td>65</td>\n",
       "      <td>KHADIJAH KOSS\\n\\n51513 FRITSCH WALKS, CHICAGO,...</td>\n",
       "      <td>khadijah koss fritsch walk chicago il phone l ...</td>\n",
       "    </tr>\n",
       "    <tr>\n",
       "      <th>1</th>\n",
       "      <td>CYBER_SECURITY_RESUME_1</td>\n",
       "      <td>75</td>\n",
       "      <td>= Enforce IT processes to ensure consistent, w...</td>\n",
       "      <td>enforc process ensur consist well integr appli...</td>\n",
       "    </tr>\n",
       "    <tr>\n",
       "      <th>2</th>\n",
       "      <td>CYBER_SECURITY_RESUME_10</td>\n",
       "      <td>75</td>\n",
       "      <td>FIRST LAST\\n\\nNew York, NY | P: +44 123456789 ...</td>\n",
       "      <td>first last new york ny p first last resumeword...</td>\n",
       "    </tr>\n",
       "    <tr>\n",
       "      <th>3</th>\n",
       "      <td>CYBER_SECURITY_RESUME_11</td>\n",
       "      <td>67</td>\n",
       "      <td>DON EVANS\\nCyber Security Analyst\\n\\n\\ 70954-6...</td>\n",
       "      <td>evan cyber secur analyst wreewexamplacom donev...</td>\n",
       "    </tr>\n",
       "    <tr>\n",
       "      <th>4</th>\n",
       "      <td>CYBER_SECURITY_RESUME_12</td>\n",
       "      <td>58</td>\n",
       "      <td>Robert Smith nese (123) 456 78 99\\n\\nCyber Sec...</td>\n",
       "      <td>robert smith nese cyber secur engin hidniinyim...</td>\n",
       "    </tr>\n",
       "  </tbody>\n",
       "</table>\n",
       "</div>"
      ],
      "text/plain": [
       "                    Resumes  Score  \\\n",
       "0   CYBER_SECURITY_RESUME_0     65   \n",
       "1   CYBER_SECURITY_RESUME_1     75   \n",
       "2  CYBER_SECURITY_RESUME_10     75   \n",
       "3  CYBER_SECURITY_RESUME_11     67   \n",
       "4  CYBER_SECURITY_RESUME_12     58   \n",
       "\n",
       "                                                text  \\\n",
       "0  KHADIJAH KOSS\\n\\n51513 FRITSCH WALKS, CHICAGO,...   \n",
       "1  = Enforce IT processes to ensure consistent, w...   \n",
       "2  FIRST LAST\\n\\nNew York, NY | P: +44 123456789 ...   \n",
       "3  DON EVANS\\nCyber Security Analyst\\n\\n\\ 70954-6...   \n",
       "4  Robert Smith nese (123) 456 78 99\\n\\nCyber Sec...   \n",
       "\n",
       "                                   preprocessed_text  \n",
       "0  khadijah koss fritsch walk chicago il phone l ...  \n",
       "1  enforc process ensur consist well integr appli...  \n",
       "2  first last new york ny p first last resumeword...  \n",
       "3  evan cyber secur analyst wreewexamplacom donev...  \n",
       "4  robert smith nese cyber secur engin hidniinyim...  "
      ]
     },
     "execution_count": 8,
     "metadata": {},
     "output_type": "execute_result"
    }
   ],
   "source": [
    "#concat the data with the new preprocess text\n",
    "data = pd.concat([df,preprocess_df],axis=1)\n",
    "data.head()"
   ]
  },
  {
   "cell_type": "markdown",
   "id": "d2d1d9bd",
   "metadata": {},
   "source": [
    "#### Convert Text data into vectors"
   ]
  },
  {
   "cell_type": "code",
   "execution_count": 9,
   "id": "44e46b0b",
   "metadata": {},
   "outputs": [
    {
     "data": {
      "text/plain": [
       "array([[0, 0, 0, ..., 0, 0, 0],\n",
       "       [0, 0, 0, ..., 0, 0, 0],\n",
       "       [0, 0, 0, ..., 0, 0, 0]], dtype=int64)"
      ]
     },
     "execution_count": 9,
     "metadata": {},
     "output_type": "execute_result"
    }
   ],
   "source": [
    "cv= CountVectorizer()\n",
    "X = cv.fit_transform(data['preprocessed_text'].values)\n",
    "X.toarray()[:3]"
   ]
  },
  {
   "cell_type": "code",
   "execution_count": 10,
   "id": "b64979c6",
   "metadata": {},
   "outputs": [
    {
     "data": {
      "text/plain": [
       "array([65, 75, 75, 67, 58, 75, 57, 56, 50, 68, 55, 55, 55, 57, 65, 75, 85,\n",
       "       55, 57, 77, 15, 60, 58, 70, 65, 78, 70, 57, 60, 65, 80, 82, 78, 75,\n",
       "       60, 72, 78, 75, 80, 60, 82, 69, 78, 75, 79, 82, 90, 85, 85, 80, 83,\n",
       "       50, 78, 63, 95, 75, 20, 60, 78, 65, 70, 65, 63, 85, 80, 72, 60, 62,\n",
       "       78, 70, 70, 68, 58, 78, 77, 80, 80, 70, 69, 57, 65, 66, 60, 80, 75,\n",
       "       78, 78, 65, 79, 88, 80, 68, 60, 78, 75, 80, 82, 77, 55, 55, 58, 60,\n",
       "       55, 78, 50, 85, 88, 78, 60, 70, 56, 75, 78, 85, 60, 65, 80, 79],\n",
       "      dtype=int64)"
      ]
     },
     "execution_count": 10,
     "metadata": {},
     "output_type": "execute_result"
    }
   ],
   "source": [
    "y = data['Score'].values\n",
    "y"
   ]
  },
  {
   "cell_type": "markdown",
   "id": "fa850b6a",
   "metadata": {},
   "source": [
    "### Model Planning and Building"
   ]
  },
  {
   "cell_type": "code",
   "execution_count": 11,
   "id": "6a9c8522",
   "metadata": {},
   "outputs": [],
   "source": [
    "def select_model(model):\n",
    "    model.fit(X,y)\n",
    "    y_pred=model.predict(X)\n",
    "    mse = mean_squared_error(y,y_pred)\n",
    "    rmse = np.sqrt(mse)\n",
    "    score = model.score(X,y)\n",
    "    \n",
    "    print(\"MSE : \", mse)\n",
    "    print(\"RMSE:\", rmse)\n",
    "    print(\"SCORE:\", score)"
   ]
  },
  {
   "cell_type": "code",
   "execution_count": 12,
   "id": "6de8d486",
   "metadata": {},
   "outputs": [],
   "source": [
    "#Create a object for each algorithm\n",
    "lr = LinearRegression()\n",
    "ls = Lasso()\n",
    "rd = Ridge()\n",
    "xgb = XGBRegressor()\n",
    "rf = RandomForestRegressor()\n",
    "svr = SVR()"
   ]
  },
  {
   "cell_type": "code",
   "execution_count": 13,
   "id": "df827e4c",
   "metadata": {},
   "outputs": [
    {
     "name": "stdout",
     "output_type": "stream",
     "text": [
      "Model:  LinearRegression()\n",
      "MSE :  3.0268361581923435\n",
      "RMSE: 1.7397804913816983\n",
      "SCORE: 0.9801055544646167\n",
      "\n",
      "\n",
      "Model:  Lasso()\n",
      "MSE :  89.72174761968775\n",
      "RMSE: 9.472156439781163\n",
      "SCORE: 0.4102870693783174\n",
      "\n",
      "\n",
      "Model:  Ridge()\n",
      "MSE :  3.098844070663034\n",
      "RMSE: 1.7603533936863456\n",
      "SCORE: 0.9796322690213701\n",
      "\n",
      "\n",
      "Model:  XGBRegressor(base_score=None, booster=None, colsample_bylevel=None,\n",
      "             colsample_bynode=None, colsample_bytree=None, gamma=None,\n",
      "             gpu_id=None, importance_type='gain', interaction_constraints=None,\n",
      "             learning_rate=None, max_delta_step=None, max_depth=None,\n",
      "             min_child_weight=None, missing=nan, monotone_constraints=None,\n",
      "             n_estimators=100, n_jobs=None, num_parallel_tree=None,\n",
      "             random_state=None, reg_alpha=None, reg_lambda=None,\n",
      "             scale_pos_weight=None, subsample=None, tree_method=None,\n",
      "             validate_parameters=None, verbosity=None)\n",
      "MSE :  3.0268390854408853\n",
      "RMSE: 1.7397813326509988\n",
      "SCORE: 0.9801055352247294\n",
      "\n",
      "\n",
      "Model:  RandomForestRegressor()\n",
      "MSE :  22.348331342249896\n",
      "RMSE: 4.727402176909629\n",
      "SCORE: 0.8531114214782561\n",
      "\n",
      "\n",
      "Model:  SVR()\n",
      "MSE :  131.9829078475987\n",
      "RMSE: 11.488381428538952\n",
      "SCORE: 0.13251770675830943\n",
      "\n",
      "\n"
     ]
    }
   ],
   "source": [
    "model_list = [lr,ls,rd,xgb,rf,svr]\n",
    "for model in model_list:\n",
    "    print(\"Model: \", model)\n",
    "    select_model(model)\n",
    "    print(\"\\n\")"
   ]
  },
  {
   "cell_type": "markdown",
   "id": "ee3c527e",
   "metadata": {},
   "source": [
    "### Predicition On Different Resume"
   ]
  },
  {
   "cell_type": "code",
   "execution_count": 14,
   "id": "1415a0fc",
   "metadata": {},
   "outputs": [
    {
     "data": {
      "text/plain": [
       "['Web App/vectorizer.pkl']"
      ]
     },
     "execution_count": 14,
     "metadata": {},
     "output_type": "execute_result"
    }
   ],
   "source": [
    "#save the linear regression model and vectorizer model\n",
    "\n",
    "joblib.dump(lr,\"Web App/model.joblib\")\n",
    "joblib.dump(cv, 'Web App/vectorizer.pkl')"
   ]
  }
 ],
 "metadata": {
  "kernelspec": {
   "display_name": "Python 3 (ipykernel)",
   "language": "python",
   "name": "python3"
  },
  "language_info": {
   "codemirror_mode": {
    "name": "ipython",
    "version": 3
   },
   "file_extension": ".py",
   "mimetype": "text/x-python",
   "name": "python",
   "nbconvert_exporter": "python",
   "pygments_lexer": "ipython3",
   "version": "3.9.6"
  }
 },
 "nbformat": 4,
 "nbformat_minor": 5
}
